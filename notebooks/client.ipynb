{
 "cells": [
  {
   "cell_type": "code",
   "execution_count": 63,
   "metadata": {},
   "outputs": [
    {
     "name": "stdout",
     "output_type": "stream",
     "text": [
      "{\n",
      "  \"penguin\": \"Adelie\",\n",
      "  \"probability\": 0.8491116995654798\n",
      "}\n"
     ]
    },
    {
     "name": "stderr",
     "output_type": "stream",
     "text": [
      "  % Total    % Received % Xferd  Average Speed   Time    Time     Time  Current\n",
      "                                 Dload  Upload   Total   Spent    Left  Speed\n",
      "\n",
      "  0     0    0     0    0     0      0      0 --:--:-- --:--:-- --:--:--     0\n",
      "100   219  100    63  100   156  10824  26804 --:--:-- --:--:-- --:--:-- 43800\n"
     ]
    }
   ],
   "source": [
    "# peticion logitic regression\n",
    "!curl --request POST \"http://127.0.0.1:8000/predict_lr\" \\\n",
    "--header \"Content-Type: application/json\" \\\n",
    "--data-raw \"{\\\n",
    "    \\\"island\\\": \\\"Dream\\\",\\\n",
    "    \\\"bill_length_mm\\\": 42.7,\\\n",
    "    \\\"bill_depth_mm\\\": 18.5,\\\n",
    "    \\\"flipper_length_mm\\\": 182,\\\n",
    "    \\\"body_mass_g\\\": 3550,\\\n",
    "    \\\"sex\\\": \\\"FEMALE\\\"\\\n",
    "}\""
   ]
  },
  {
   "cell_type": "code",
   "execution_count": 62,
   "metadata": {},
   "outputs": [
    {
     "name": "stdout",
     "output_type": "stream",
     "text": [
      "{\n",
      "  \"penguin\": \"Adelie\",\n",
      "  \"probability\": 0.9095710823324886\n",
      "}\n"
     ]
    },
    {
     "name": "stderr",
     "output_type": "stream",
     "text": [
      "  % Total    % Received % Xferd  Average Speed   Time    Time     Time  Current\n",
      "                                 Dload  Upload   Total   Spent    Left  Speed\n",
      "\n",
      "  0     0    0     0    0     0      0      0 --:--:-- --:--:-- --:--:--     0\n",
      "100   221  100    63  100   158  10470  26258 --:--:-- --:--:-- --:--:-- 44200\n"
     ]
    }
   ],
   "source": [
    "# peticion logitic regression\n",
    "!curl --request POST \"http://127.0.0.1:8000/predict_lr\" \\\n",
    "--header \"Content-Type: application/json\" \\\n",
    "--data-raw \"{\\\n",
    "    \\\"island\\\": \\\"Torgersen\\\",\\\n",
    "    \\\"bill_length_mm\\\": 39.5,\\\n",
    "    \\\"bill_depth_mm\\\": 18.5,\\\n",
    "    \\\"flipper_length_mm\\\": 180,\\\n",
    "    \\\"body_mass_g\\\": 3750,\\\n",
    "    \\\"sex\\\": \\\"MALE\\\"\\\n",
    "}\"\n"
   ]
  },
  {
   "cell_type": "code",
   "execution_count": 61,
   "metadata": {},
   "outputs": [
    {
     "name": "stdout",
     "output_type": "stream",
     "text": [
      "{\n",
      "  \"penguin\": \"Adelie\",\n",
      "  \"probability\": 0.8211730531053338\n",
      "}\n"
     ]
    },
    {
     "name": "stderr",
     "output_type": "stream",
     "text": [
      "  % Total    % Received % Xferd  Average Speed   Time    Time     Time  Current\n",
      "                                 Dload  Upload   Total   Spent    Left  Speed\n",
      "\n",
      "  0     0    0     0    0     0      0      0 --:--:-- --:--:-- --:--:--     0\n",
      "100   219  100    63  100   156   9802  24272 --:--:-- --:--:-- --:--:-- 36500\n"
     ]
    }
   ],
   "source": [
    "# petición SVM\n",
    "!curl --request POST \"http://127.0.0.1:8000/predict_svm\" \\\n",
    "--header \"Content-Type: application/json\" \\\n",
    "--data-raw \"{\\\n",
    "    \\\"island\\\": \\\"Dream\\\",\\\n",
    "    \\\"bill_length_mm\\\": 42.7,\\\n",
    "    \\\"bill_depth_mm\\\": 18.5,\\\n",
    "    \\\"flipper_length_mm\\\": 182,\\\n",
    "    \\\"body_mass_g\\\": 3550,\\\n",
    "    \\\"sex\\\": \\\"FEMALE\\\"\\\n",
    "}\""
   ]
  },
  {
   "cell_type": "code",
   "execution_count": 60,
   "metadata": {},
   "outputs": [
    {
     "name": "stdout",
     "output_type": "stream",
     "text": [
      "{\n",
      "  \"penguin\": \"Adelie\",\n",
      "  \"probability\": 0.8656084027965272\n",
      "}\n"
     ]
    },
    {
     "name": "stderr",
     "output_type": "stream",
     "text": [
      "  % Total    % Received % Xferd  Average Speed   Time    Time     Time  Current\n",
      "                                 Dload  Upload   Total   Spent    Left  Speed\n",
      "\n",
      "  0     0    0     0    0     0      0      0 --:--:-- --:--:-- --:--:--     0\n",
      "100   221  100    63  100   158   2197   5510 --:--:-- --:--:-- --:--:--  7892\n"
     ]
    }
   ],
   "source": [
    "# petición SVM\n",
    "!curl --request POST \"http://127.0.0.1:8000/predict_svm\" \\\n",
    "--header \"Content-Type: application/json\" \\\n",
    "--data-raw \"{\\\n",
    "    \\\"island\\\": \\\"Torgersen\\\",\\\n",
    "    \\\"bill_length_mm\\\": 39.5,\\\n",
    "    \\\"bill_depth_mm\\\": 18.5,\\\n",
    "    \\\"flipper_length_mm\\\": 180,\\\n",
    "    \\\"body_mass_g\\\": 3750,\\\n",
    "    \\\"sex\\\": \\\"MALE\\\"\\\n",
    "}\"\n"
   ]
  },
  {
   "cell_type": "code",
   "execution_count": 59,
   "metadata": {},
   "outputs": [
    {
     "name": "stdout",
     "output_type": "stream",
     "text": [
      "{\n",
      "  \"penguin\": \"Gentoo\",\n",
      "  \"probability\": 1.0\n",
      "}\n"
     ]
    },
    {
     "name": "stderr",
     "output_type": "stream",
     "text": [
      "  % Total    % Received % Xferd  Average Speed   Time    Time     Time  Current\n",
      "                                 Dload  Upload   Total   Spent    Left  Speed\n",
      "\n",
      "  0     0    0     0    0     0      0      0 --:--:-- --:--:-- --:--:--     0\n",
      "100   204  100    48  100   156   2207   7175 --:--:-- --:--:-- --:--:--  9714\n"
     ]
    }
   ],
   "source": [
    "# peticion Decision Tree\n",
    "!curl --request POST \"http://127.0.0.1:8000/predict_dt\" \\\n",
    "--header \"Content-Type: application/json\" \\\n",
    "--data-raw \"{\\\n",
    "    \\\"island\\\": \\\"Dream\\\",\\\n",
    "    \\\"bill_length_mm\\\": 42.7,\\\n",
    "    \\\"bill_depth_mm\\\": 18.5,\\\n",
    "    \\\"flipper_length_mm\\\": 182,\\\n",
    "    \\\"body_mass_g\\\": 3550,\\\n",
    "    \\\"sex\\\": \\\"FEMALE\\\"\\\n",
    "}\""
   ]
  },
  {
   "cell_type": "code",
   "execution_count": 58,
   "metadata": {},
   "outputs": [
    {
     "name": "stdout",
     "output_type": "stream",
     "text": [
      "{\n",
      "  \"penguin\": \"Gentoo\",\n",
      "  \"probability\": 1.0\n",
      "}\n"
     ]
    },
    {
     "name": "stderr",
     "output_type": "stream",
     "text": [
      "  % Total    % Received % Xferd  Average Speed   Time    Time     Time  Current\n",
      "                                 Dload  Upload   Total   Spent    Left  Speed\n",
      "\n",
      "  0     0    0     0    0     0      0      0 --:--:-- --:--:-- --:--:--     0\n",
      "100   206  100    48  100   158   1688   5557 --:--:-- --:--:-- --:--:--  7357\n"
     ]
    }
   ],
   "source": [
    "# peticion Decision Tree\n",
    "!curl --request POST \"http://127.0.0.1:8000/predict_dt\" \\\n",
    "--header \"Content-Type: application/json\" \\\n",
    "--data-raw \"{\\\n",
    "    \\\"island\\\": \\\"Torgersen\\\",\\\n",
    "    \\\"bill_length_mm\\\": 39.5,\\\n",
    "    \\\"bill_depth_mm\\\": 18.5,\\\n",
    "    \\\"flipper_length_mm\\\": 180,\\\n",
    "    \\\"body_mass_g\\\": 3750,\\\n",
    "    \\\"sex\\\": \\\"MALE\\\"\\\n",
    "}\"\n"
   ]
  },
  {
   "cell_type": "code",
   "execution_count": 57,
   "metadata": {},
   "outputs": [
    {
     "name": "stdout",
     "output_type": "stream",
     "text": [
      "{\n",
      "  \"penguin\": \"Adelie\",\n",
      "  \"probability\": 1.0\n",
      "}\n"
     ]
    },
    {
     "name": "stderr",
     "output_type": "stream",
     "text": [
      "  % Total    % Received % Xferd  Average Speed   Time    Time     Time  Current\n",
      "                                 Dload  Upload   Total   Spent    Left  Speed\n",
      "\n",
      "  0     0    0     0    0     0      0      0 --:--:-- --:--:-- --:--:--     0\n",
      "100   204  100    48  100   156   1618   5261 --:--:-- --:--:-- --:--:--  7034\n"
     ]
    }
   ],
   "source": [
    "# peticion knn\n",
    "!curl --request POST \"http://127.0.0.1:8000/predict_knn\" \\\n",
    "--header \"Content-Type: application/json\" \\\n",
    "--data-raw \"{\\\n",
    "    \\\"island\\\": \\\"Dream\\\",\\\n",
    "    \\\"bill_length_mm\\\": 42.7,\\\n",
    "    \\\"bill_depth_mm\\\": 18.5,\\\n",
    "    \\\"flipper_length_mm\\\": 182,\\\n",
    "    \\\"body_mass_g\\\": 3550,\\\n",
    "    \\\"sex\\\": \\\"FEMALE\\\"\\\n",
    "}\""
   ]
  },
  {
   "cell_type": "code",
   "execution_count": 56,
   "metadata": {},
   "outputs": [
    {
     "name": "stdout",
     "output_type": "stream",
     "text": [
      "{\n",
      "  \"penguin\": \"Adelie\",\n",
      "  \"probability\": 1.0\n",
      "}\n"
     ]
    },
    {
     "name": "stderr",
     "output_type": "stream",
     "text": [
      "  % Total    % Received % Xferd  Average Speed   Time    Time     Time  Current\n",
      "                                 Dload  Upload   Total   Spent    Left  Speed\n",
      "\n",
      "  0     0    0     0    0     0      0      0 --:--:-- --:--:-- --:--:--     0\n",
      "100   206  100    48  100   158   5959  19617 --:--:-- --:--:-- --:--:-- 25750\n"
     ]
    }
   ],
   "source": [
    "# peticion knn\n",
    "!curl --request POST \"http://127.0.0.1:8000/predict_knn\" \\\n",
    "--header \"Content-Type: application/json\" \\\n",
    "--data-raw \"{\\\n",
    "    \\\"island\\\": \\\"Torgersen\\\",\\\n",
    "    \\\"bill_length_mm\\\": 39.5,\\\n",
    "    \\\"bill_depth_mm\\\": 18.5,\\\n",
    "    \\\"flipper_length_mm\\\": 180,\\\n",
    "    \\\"body_mass_g\\\": 3750,\\\n",
    "    \\\"sex\\\": \\\"MALE\\\"\\\n",
    "}\""
   ]
  }
 ],
 "metadata": {
  "kernelspec": {
   "display_name": ".venv",
   "language": "python",
   "name": "python3"
  },
  "language_info": {
   "codemirror_mode": {
    "name": "ipython",
    "version": 3
   },
   "file_extension": ".py",
   "mimetype": "text/x-python",
   "name": "python",
   "nbconvert_exporter": "python",
   "pygments_lexer": "ipython3",
   "version": "3.13.0"
  }
 },
 "nbformat": 4,
 "nbformat_minor": 2
}
