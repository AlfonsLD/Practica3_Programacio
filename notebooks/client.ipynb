{
 "cells": [
  {
   "cell_type": "code",
   "execution_count": 10,
   "metadata": {},
   "outputs": [
    {
     "name": "stdout",
     "output_type": "stream",
     "text": [
      "{\n",
      "  \"penguin\": \"Adelie\",\n",
      "  \"probability\": 0.6867562417955635\n",
      "}\n"
     ]
    },
    {
     "name": "stderr",
     "output_type": "stream",
     "text": [
      "  % Total    % Received % Xferd  Average Speed   Time    Time     Time  Current\n",
      "                                 Dload  Upload   Total   Spent    Left  Speed\n",
      "\n",
      "  0     0    0     0    0     0      0      0 --:--:-- --:--:-- --:--:--     0\n",
      "100   219  100    63  100   156  13179  32635 --:--:-- --:--:-- --:--:-- 54750\n"
     ]
    }
   ],
   "source": [
    "# peticion logitic regression\n",
    "!curl --request POST \"http://127.0.0.1:8000/predict_lr\" \\\n",
    "--header \"Content-Type: application/json\" \\\n",
    "--data-raw \"{\\\n",
    "    \\\"island\\\": \\\"Dream\\\",\\\n",
    "    \\\"bill_length_mm\\\": 42.7,\\\n",
    "    \\\"bill_depth_mm\\\": 18.5,\\\n",
    "    \\\"flipper_length_mm\\\": 182,\\\n",
    "    \\\"body_mass_g\\\": 3550,\\\n",
    "    \\\"sex\\\": \\\"FEMALE\\\"\\\n",
    "}\""
   ]
  },
  {
   "cell_type": "code",
   "execution_count": 11,
   "metadata": {},
   "outputs": [
    {
     "name": "stdout",
     "output_type": "stream",
     "text": [
      "{\n",
      "  \"penguin\": \"Chinstrap\",\n",
      "  \"probability\": 0.9877296727089502\n",
      "}\n"
     ]
    },
    {
     "name": "stderr",
     "output_type": "stream",
     "text": [
      "  % Total    % Received % Xferd  Average Speed   Time    Time     Time  Current\n",
      "                                 Dload  Upload   Total   Spent    Left  Speed\n",
      "\n",
      "  0     0    0     0    0     0      0      0 --:--:-- --:--:-- --:--:--     0\n",
      "100   218  100    66  100   152   3146   7247 --:--:-- --:--:-- --:--:-- 10900\n"
     ]
    }
   ],
   "source": [
    "# peticion logitic regression\n",
    "!curl --request POST \"http://127.0.0.1:8000/predict_lr\" \\\n",
    "--header \"Content-Type: application/json\" \\\n",
    "--data-raw \"{\\\n",
    "    \\\"island\\\": \\\"Dream\\\",\\\n",
    "    \\\"bill_length_mm\\\": 51,\\\n",
    "    \\\"bill_depth_mm\\\": 18.8,\\\n",
    "    \\\"flipper_length_mm\\\": 203,\\\n",
    "    \\\"body_mass_g\\\": 4100,\\\n",
    "    \\\"sex\\\": \\\"MALE\\\"\\\n",
    "}\"\n"
   ]
  },
  {
   "cell_type": "code",
   "execution_count": 12,
   "metadata": {},
   "outputs": [
    {
     "name": "stdout",
     "output_type": "stream",
     "text": [
      "{\n",
      "  \"penguin\": \"Adelie\",\n",
      "  \"probability\": 0.8104141970261037\n",
      "}\n"
     ]
    },
    {
     "name": "stderr",
     "output_type": "stream",
     "text": [
      "  % Total    % Received % Xferd  Average Speed   Time    Time     Time  Current\n",
      "                                 Dload  Upload   Total   Spent    Left  Speed\n",
      "\n",
      "  0     0    0     0    0     0      0      0 --:--:-- --:--:-- --:--:--     0\n",
      "100   219  100    63  100   156  13046  32304 --:--:-- --:--:-- --:--:-- 54750\n"
     ]
    }
   ],
   "source": [
    "# petición SVM\n",
    "!curl --request POST \"http://127.0.0.1:8000/predict_svm\" \\\n",
    "--header \"Content-Type: application/json\" \\\n",
    "--data-raw \"{\\\n",
    "    \\\"island\\\": \\\"Dream\\\",\\\n",
    "    \\\"bill_length_mm\\\": 42.7,\\\n",
    "    \\\"bill_depth_mm\\\": 18.5,\\\n",
    "    \\\"flipper_length_mm\\\": 182,\\\n",
    "    \\\"body_mass_g\\\": 3550,\\\n",
    "    \\\"sex\\\": \\\"FEMALE\\\"\\\n",
    "}\""
   ]
  },
  {
   "cell_type": "code",
   "execution_count": 13,
   "metadata": {},
   "outputs": [
    {
     "name": "stdout",
     "output_type": "stream",
     "text": [
      "{\n",
      "  \"penguin\": \"Chinstrap\",\n",
      "  \"probability\": 0.98150227284602\n",
      "}\n"
     ]
    },
    {
     "name": "stderr",
     "output_type": "stream",
     "text": [
      "  % Total    % Received % Xferd  Average Speed   Time    Time     Time  Current\n",
      "                                 Dload  Upload   Total   Spent    Left  Speed\n",
      "\n",
      "  0     0    0     0    0     0      0      0 --:--:-- --:--:-- --:--:--     0\n",
      "100   216  100    64  100   152   8995  21363 --:--:-- --:--:-- --:--:-- 30857\n"
     ]
    }
   ],
   "source": [
    "# petición SVM\n",
    "!curl --request POST \"http://127.0.0.1:8000/predict_svm\" \\\n",
    "--header \"Content-Type: application/json\" \\\n",
    "--data-raw \"{\\\n",
    "    \\\"island\\\": \\\"Dream\\\",\\\n",
    "    \\\"bill_length_mm\\\": 51,\\\n",
    "    \\\"bill_depth_mm\\\": 18.8,\\\n",
    "    \\\"flipper_length_mm\\\": 203,\\\n",
    "    \\\"body_mass_g\\\": 4100,\\\n",
    "    \\\"sex\\\": \\\"MALE\\\"\\\n",
    "}\"\n"
   ]
  },
  {
   "cell_type": "code",
   "execution_count": 14,
   "metadata": {},
   "outputs": [
    {
     "name": "stdout",
     "output_type": "stream",
     "text": [
      "{\n",
      "  \"penguin\": \"Adelie\",\n",
      "  \"probability\": 1.0\n",
      "}\n"
     ]
    },
    {
     "name": "stderr",
     "output_type": "stream",
     "text": [
      "  % Total    % Received % Xferd  Average Speed   Time    Time     Time  Current\n",
      "                                 Dload  Upload   Total   Spent    Left  Speed\n",
      "\n",
      "  0     0    0     0    0     0      0      0 --:--:-- --:--:-- --:--:--     0\n",
      "100   204  100    48  100   156  10137  32946 --:--:-- --:--:-- --:--:-- 51000\n"
     ]
    }
   ],
   "source": [
    "# peticion Decision Tree\n",
    "!curl --request POST \"http://127.0.0.1:8000/predict_dt\" \\\n",
    "--header \"Content-Type: application/json\" \\\n",
    "--data-raw \"{\\\n",
    "    \\\"island\\\": \\\"Dream\\\",\\\n",
    "    \\\"bill_length_mm\\\": 42.7,\\\n",
    "    \\\"bill_depth_mm\\\": 18.5,\\\n",
    "    \\\"flipper_length_mm\\\": 182,\\\n",
    "    \\\"body_mass_g\\\": 3550,\\\n",
    "    \\\"sex\\\": \\\"FEMALE\\\"\\\n",
    "}\""
   ]
  },
  {
   "cell_type": "code",
   "execution_count": 15,
   "metadata": {},
   "outputs": [
    {
     "name": "stdout",
     "output_type": "stream",
     "text": [
      "{\n",
      "  \"penguin\": \"Chinstrap\",\n",
      "  \"probability\": 1.0\n",
      "}\n"
     ]
    },
    {
     "name": "stderr",
     "output_type": "stream",
     "text": [
      "  % Total    % Received % Xferd  Average Speed   Time    Time     Time  Current\n",
      "                                 Dload  Upload   Total   Spent    Left  Speed\n",
      "\n",
      "  0     0    0     0    0     0      0      0 --:--:-- --:--:-- --:--:--     0\n",
      "100   203  100    51  100   152   2124   6332 --:--:-- --:--:-- --:--:--  8826\n"
     ]
    }
   ],
   "source": [
    "# peticion Decision Tree\n",
    "!curl --request POST \"http://127.0.0.1:8000/predict_dt\" \\\n",
    "--header \"Content-Type: application/json\" \\\n",
    "--data-raw \"{\\\n",
    "    \\\"island\\\": \\\"Dream\\\",\\\n",
    "    \\\"bill_length_mm\\\": 51,\\\n",
    "    \\\"bill_depth_mm\\\": 18.8,\\\n",
    "    \\\"flipper_length_mm\\\": 203,\\\n",
    "    \\\"body_mass_g\\\": 4100,\\\n",
    "    \\\"sex\\\": \\\"MALE\\\"\\\n",
    "}\"\n"
   ]
  },
  {
   "cell_type": "code",
   "execution_count": 16,
   "metadata": {},
   "outputs": [
    {
     "name": "stdout",
     "output_type": "stream",
     "text": [
      "{\n",
      "  \"penguin\": \"Adelie\",\n",
      "  \"probability\": 0.6666666666666666\n",
      "}\n"
     ]
    },
    {
     "name": "stderr",
     "output_type": "stream",
     "text": [
      "  % Total    % Received % Xferd  Average Speed   Time    Time     Time  Current\n",
      "                                 Dload  Upload   Total   Spent    Left  Speed\n",
      "\n",
      "  0     0    0     0    0     0      0      0 --:--:-- --:--:-- --:--:--     0\n",
      "100   219  100    63  100   156   9856  24405 --:--:-- --:--:-- --:--:-- 36500\n"
     ]
    }
   ],
   "source": [
    "# peticion knn\n",
    "!curl --request POST \"http://127.0.0.1:8000/predict_knn\" \\\n",
    "--header \"Content-Type: application/json\" \\\n",
    "--data-raw \"{\\\n",
    "    \\\"island\\\": \\\"Dream\\\",\\\n",
    "    \\\"bill_length_mm\\\": 42.7,\\\n",
    "    \\\"bill_depth_mm\\\": 18.5,\\\n",
    "    \\\"flipper_length_mm\\\": 182,\\\n",
    "    \\\"body_mass_g\\\": 3550,\\\n",
    "    \\\"sex\\\": \\\"FEMALE\\\"\\\n",
    "}\""
   ]
  },
  {
   "cell_type": "code",
   "execution_count": 17,
   "metadata": {},
   "outputs": [
    {
     "name": "stdout",
     "output_type": "stream",
     "text": [
      "{\n",
      "  \"penguin\": \"Chinstrap\",\n",
      "  \"probability\": 1.0\n",
      "}\n"
     ]
    },
    {
     "name": "stderr",
     "output_type": "stream",
     "text": [
      "  % Total    % Received % Xferd  Average Speed   Time    Time     Time  Current\n",
      "                                 Dload  Upload   Total   Spent    Left  Speed\n",
      "\n",
      "  0     0    0     0    0     0      0      0 --:--:-- --:--:-- --:--:--     0\n",
      "100   203  100    51  100   152   3278   9770 --:--:-- --:--:-- --:--:-- 13533\n"
     ]
    }
   ],
   "source": [
    "# peticion knn\n",
    "!curl --request POST \"http://127.0.0.1:8000/predict_knn\" \\\n",
    "--header \"Content-Type: application/json\" \\\n",
    "--data-raw \"{\\\n",
    "    \\\"island\\\": \\\"Dream\\\",\\\n",
    "    \\\"bill_length_mm\\\": 51,\\\n",
    "    \\\"bill_depth_mm\\\": 18.8,\\\n",
    "    \\\"flipper_length_mm\\\": 203,\\\n",
    "    \\\"body_mass_g\\\": 4100,\\\n",
    "    \\\"sex\\\": \\\"MALE\\\"\\\n",
    "}\""
   ]
  }
 ],
 "metadata": {
  "kernelspec": {
   "display_name": ".venv",
   "language": "python",
   "name": "python3"
  },
  "language_info": {
   "codemirror_mode": {
    "name": "ipython",
    "version": 3
   },
   "file_extension": ".py",
   "mimetype": "text/x-python",
   "name": "python",
   "nbconvert_exporter": "python",
   "pygments_lexer": "ipython3",
   "version": "3.13.0"
  }
 },
 "nbformat": 4,
 "nbformat_minor": 2
}
